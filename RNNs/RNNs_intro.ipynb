{
 "cells": [
  {
   "cell_type": "markdown",
   "metadata": {
    "colab_type": "text",
    "id": "view-in-github"
   },
   "source": [
    "<a href=\"https://colab.research.google.com/github/iashyam/Pytorch-Tutorial/blob/main/RNNs_intro.ipynb\" target=\"_parent\"><img src=\"https://colab.research.google.com/assets/colab-badge.svg\" alt=\"Open In Colab\"/></a>"
   ]
  },
  {
   "cell_type": "code",
   "execution_count": 44,
   "metadata": {
    "id": "NJ1Pav92xhKu"
   },
   "outputs": [],
   "source": [
    "import torch\n",
    "from torch.utils.data import Dataset, DataLoader\n",
    "import string\n",
    "import unicodedata\n",
    "import torch.nn.functional as F\n",
    "from torch import nn\n",
    "import os\n",
    "from tqdm import tqdm"
   ]
  },
  {
   "cell_type": "code",
   "execution_count": 21,
   "metadata": {
    "id": "SnE8ap7Gxveq"
   },
   "outputs": [],
   "source": [
    "import requests\n",
    "import zipfile\n",
    "def download_data(link):\n",
    "    with open('download', 'wb') as f:\n",
    "        f.write(requests.get(link).content)\n",
    "\n",
    "    with zipfile.ZipFile('download', 'r') as zip_ref:\n",
    "        zip_ref.extractall('.')\n",
    "\n",
    "download_data('https://download.pytorch.org/tutorial/data.zip')"
   ]
  },
  {
   "cell_type": "code",
   "execution_count": 22,
   "metadata": {
    "id": "ClLCYV_0_Kjt"
   },
   "outputs": [],
   "source": [
    "allowed_characters = string.ascii_letters + \" .,;'\" + \"_\"\n",
    "n_letters = len(allowed_characters)\n",
    "\n",
    "def wordToUnicode(word: str) -> str:\n",
    "\n",
    "    '''remove things likea accents so we can process thigs better'''\n",
    "\n",
    "    return ''.join(\n",
    "        c for c in unicodedata.normalize('NFD', word)\n",
    "        if unicodedata.category(c) != 'Mn'\n",
    "        and c in allowed_characters\n",
    "    )"
   ]
  },
  {
   "cell_type": "code",
   "execution_count": 23,
   "metadata": {
    "id": "421MPPytAg9-"
   },
   "outputs": [],
   "source": [
    "def wordToTensor(word: str) -> torch.Tensor:\n",
    "\n",
    "    ret = torch.zeros((len(word), 1, n_letters))\n",
    "\n",
    "    for li, letter in enumerate(word):\n",
    "        one_hot = torch.zeros(n_letters)\n",
    "        index = -1\n",
    "        if letter in allowed_characters:\n",
    "            index = allowed_characters.find(letter)\n",
    "        one_hot[index] = 1\n",
    "        ret[li] = one_hot\n",
    "    return ret\n"
   ]
  },
  {
   "cell_type": "code",
   "execution_count": 24,
   "metadata": {
    "id": "1n8NrkCEBKMV"
   },
   "outputs": [],
   "source": [
    "data_dir = 'data/names'\n",
    "\n",
    "\n",
    "def parse_files(data_dir: str) -> tuple[list, dict]:\n",
    "\n",
    "    lables = []\n",
    "    lables_to_names = {}\n",
    "\n",
    "    for file in os.listdir(data_dir):\n",
    "        if file.endswith('.txt'):\n",
    "            label = os.path.splitext(file)[0]\n",
    "            file = os.path.join(data_dir, file)\n",
    "            lables_to_names[label] = []\n",
    "            lables.append(label)\n",
    "            with open(file, 'r') as f:\n",
    "                for lines in f:\n",
    "                    lables_to_names[label].append(wordToUnicode(lines.strip()))\n",
    "\n",
    "    return lables, lables_to_names"
   ]
  },
  {
   "cell_type": "code",
   "execution_count": 47,
   "metadata": {
    "id": "yWOKGDmhBO4k"
   },
   "outputs": [],
   "source": [
    "class wordsDataset(Dataset):\n",
    "\n",
    "    def __init__(self, data_dir):\n",
    "        self.labels, self.labels_to_names = parse_files(data_dir)\n",
    "        self.all_names = [(name, label) for label, names in self.labels_to_names.items() for name in names]\n",
    "\n",
    "    def __len__(self):\n",
    "        return len(self.all_names)\n",
    "\n",
    "    def get_labels(self):\n",
    "        return self.labels\n",
    "\n",
    "    def __getitem__(self, idx):\n",
    "        name, label = self.all_names[idx]\n",
    "        name_tensor = wordToTensor(name)\n",
    "        label_tensor = torch.tensor(self.labels.index(label), dtype=torch.long)\n",
    "        return name_tensor, label_tensor"
   ]
  },
  {
   "cell_type": "code",
   "execution_count": 25,
   "metadata": {
    "id": "0yrCwZW-b_Wm"
   },
   "outputs": [],
   "source": []
  },
  {
   "cell_type": "code",
   "execution_count": 26,
   "metadata": {
    "id": "QwHiByRzCdKu"
   },
   "outputs": [],
   "source": [
    "class simpleRNN(nn.Module):\n",
    "\n",
    "    def __init__(self, input_size: int, hidden: int, output: int) -> None:\n",
    "        super().__init__()\n",
    "        self.rnn = nn.RNN(input_size, hidden)\n",
    "        self.fc = nn.Linear(hidden, output)\n",
    "\n",
    "    def forward(self, x):\n",
    "        output, hidden = self.rnn(x)\n",
    "        x = self.fc(hidden[0])\n",
    "        return x"
   ]
  },
  {
   "cell_type": "code",
   "execution_count": 27,
   "metadata": {
    "id": "GFxiKf-yHaKs"
   },
   "outputs": [],
   "source": [
    "model = simpleRNN(n_letters, 128, 18)"
   ]
  },
  {
   "cell_type": "code",
   "execution_count": 28,
   "metadata": {
    "colab": {
     "base_uri": "https://localhost:8080/"
    },
    "id": "hbc99FD-KO9b",
    "outputId": "2ea354e7-6c60-4284-afe5-2f2e7ec08dd6"
   },
   "outputs": [
    {
     "name": "stdout",
     "output_type": "stream",
     "text": [
      "simpleRNN(\n",
      "  (rnn): RNN(58, 128)\n",
      "  (fc): Linear(in_features=128, out_features=18, bias=True)\n",
      ")\n"
     ]
    }
   ],
   "source": [
    "print(model)"
   ]
  },
  {
   "cell_type": "code",
   "execution_count": 29,
   "metadata": {
    "colab": {
     "base_uri": "https://localhost:8080/"
    },
    "id": "uHp8sVpWHo_7",
    "outputId": "cab59d2b-316a-4f19-d7dd-797780f3846b"
   },
   "outputs": [
    {
     "data": {
      "text/plain": [
       "tensor([[-0.1080,  0.0806, -0.1772,  0.0166,  0.0380, -0.0113,  0.0773,  0.1006,\n",
       "         -0.1435,  0.1165,  0.0483,  0.0514,  0.0845,  0.0037, -0.0689,  0.0714,\n",
       "          0.0141, -0.0226]], grad_fn=<AddmmBackward0>)"
      ]
     },
     "execution_count": 29,
     "metadata": {},
     "output_type": "execute_result"
    }
   ],
   "source": [
    "model(wordToTensor('hello'))"
   ]
  },
  {
   "cell_type": "code",
   "execution_count": 30,
   "metadata": {
    "id": "hBwuWeIrHsm7"
   },
   "outputs": [],
   "source": [
    "def train_stepper(model, optimizer, loss_fn, device):\n",
    "\n",
    "    def step(x, y):\n",
    "        x = x.to(device)\n",
    "        y = y.to(device)\n",
    "        y_pred = model(x)\n",
    "        loss = loss_fn(y_pred, y)\n",
    "        optimizer.zero_grad()\n",
    "        loss.backward()\n",
    "        optimizer.step()\n",
    "        return loss.item()\n",
    "\n",
    "    return step"
   ]
  },
  {
   "cell_type": "code",
   "execution_count": 31,
   "metadata": {
    "id": "05VBV65VIagc"
   },
   "outputs": [],
   "source": [
    "import random\n",
    "import numpy as np\n",
    "def train_loop(model, optimizer, loss_fn, device, data, epochs: int, batch_size: int) -> dict:\n",
    "\n",
    "    model.to(device)\n",
    "    model.train()\n",
    "\n",
    "    history = {}\n",
    "    history['train_loss'] = []\n",
    "\n",
    "    ## trying to a batch training setup\n",
    "    indices = list(range(len(data)))\n",
    "    random.shuffle(indices)\n",
    "\n",
    "    num_batches  = len(data) // batch_size\n",
    "    batch_indices = np.array_split(indices, num_batches)\n",
    "\n",
    "    for epoch in range(epochs):\n",
    "        epoch_loss = 0\n",
    "        avg_epoch_loss = 0\n",
    "        for i, batch in (bar := tqdm(enumerate(batch_indices))):\n",
    "            bar.set_description(f'epoch: {epoch}')\n",
    "            batch_loss = 0\n",
    "            for index in batch:\n",
    "                x, y = data[index]\n",
    "\n",
    "                x = x.to(device)\n",
    "                y = y.to(device).unsqueeze(0)\n",
    "                y_pred = model(x)\n",
    "                loss = loss_fn(y_pred, y)\n",
    "                batch_loss += loss\n",
    "\n",
    "            batch_loss.backward()\n",
    "            optimizer.step()\n",
    "            optimizer.zero_grad()\n",
    "\n",
    "            epoch_loss += batch_loss.item()\n",
    "            avg_epoch_loss = epoch_loss / ((i+1)*batch_size)\n",
    "            bar.set_postfix({'loss': round(avg_epoch_loss, 4), 'batch':f'{i} of {num_batches}'})\n",
    "\n",
    "        history['train_loss'].append(avg_epoch_loss)\n",
    "\n",
    "    return history\n"
   ]
  },
  {
   "cell_type": "code",
   "execution_count": 32,
   "metadata": {
    "colab": {
     "base_uri": "https://localhost:8080/"
    },
    "id": "INVvQG6iACyN",
    "outputId": "ada48fc0-17b1-4219-8cc7-301020bed79c"
   },
   "outputs": [
    {
     "data": {
      "text/plain": [
       "[array([ 0,  1,  2,  3,  4,  5,  6,  7,  8,  9, 10, 11, 12, 13]),\n",
       " array([14, 15, 16, 17, 18, 19, 20, 21, 22, 23, 24, 25, 26]),\n",
       " array([27, 28, 29, 30, 31, 32, 33, 34, 35, 36, 37, 38, 39])]"
      ]
     },
     "execution_count": 32,
     "metadata": {},
     "output_type": "execute_result"
    }
   ],
   "source": [
    "np.array_split(list(range(40)), 3)"
   ]
  },
  {
   "cell_type": "code",
   "execution_count": 33,
   "metadata": {
    "colab": {
     "base_uri": "https://localhost:8080/"
    },
    "id": "B6m-MzY4JVZ7",
    "outputId": "4a4a356a-60e8-40dd-e3c9-3c984ac9077a"
   },
   "outputs": [
    {
     "name": "stdout",
     "output_type": "stream",
     "text": [
      "using device: cuda\n"
     ]
    }
   ],
   "source": [
    "optmizer = torch.optim.Adam(model.parameters(), lr=0.001)\n",
    "loss_fn = nn.CrossEntropyLoss()\n",
    "device = 'cuda' if torch.cuda.is_available() else 'cpu'\n",
    "print(f'using device: {device}')"
   ]
  },
  {
   "cell_type": "code",
   "execution_count": 34,
   "metadata": {
    "colab": {
     "base_uri": "https://localhost:8080/"
    },
    "id": "3oXX_zHGJg2M",
    "outputId": "0789b1be-8a00-4edf-b9b5-b99f15ba2ec5"
   },
   "outputs": [
    {
     "name": "stderr",
     "output_type": "stream",
     "text": [
      "epoch: 0: : 313it [00:23, 13.27it/s, loss=1.48, batch=312 of 313]\n",
      "epoch: 1: : 313it [00:23, 13.31it/s, loss=1.06, batch=312 of 313]\n",
      "epoch: 2: : 313it [00:23, 13.35it/s, loss=0.91, batch=312 of 313]\n",
      "epoch: 3: : 313it [00:23, 13.36it/s, loss=0.83, batch=312 of 313]\n",
      "epoch: 4: : 313it [00:23, 13.34it/s, loss=0.778, batch=312 of 313]\n",
      "epoch: 5: : 313it [00:23, 13.37it/s, loss=0.736, batch=312 of 313]\n",
      "epoch: 6: : 313it [00:23, 13.34it/s, loss=0.701, batch=312 of 313]\n",
      "epoch: 7: : 313it [00:23, 13.16it/s, loss=0.67, batch=312 of 313]\n",
      "epoch: 8: : 313it [00:24, 12.96it/s, loss=0.643, batch=312 of 313]\n",
      "epoch: 9: : 313it [00:24, 12.93it/s, loss=0.618, batch=312 of 313]\n",
      "epoch: 10: : 313it [00:24, 12.61it/s, loss=0.594, batch=312 of 313]\n",
      "epoch: 11: : 313it [00:24, 12.80it/s, loss=0.573, batch=312 of 313]\n",
      "epoch: 12: : 313it [00:24, 12.75it/s, loss=0.552, batch=312 of 313]\n",
      "epoch: 13: : 313it [00:24, 12.76it/s, loss=0.533, batch=312 of 313]\n",
      "epoch: 14: : 313it [00:24, 12.95it/s, loss=0.515, batch=312 of 313]\n",
      "epoch: 15: : 313it [00:23, 13.07it/s, loss=0.498, batch=312 of 313]\n",
      "epoch: 16: : 313it [00:23, 13.14it/s, loss=0.481, batch=312 of 313]\n",
      "epoch: 17: : 313it [00:23, 13.14it/s, loss=0.466, batch=312 of 313]\n",
      "epoch: 18: : 313it [00:23, 13.13it/s, loss=0.451, batch=312 of 313]\n",
      "epoch: 19: : 313it [00:23, 13.09it/s, loss=0.436, batch=312 of 313]\n",
      "epoch: 20: : 313it [00:23, 13.12it/s, loss=0.422, batch=312 of 313]\n",
      "epoch: 21: : 313it [00:23, 13.24it/s, loss=0.407, batch=312 of 313]\n",
      "epoch: 22: : 313it [00:23, 13.22it/s, loss=0.394, batch=312 of 313]\n",
      "epoch: 23: : 313it [00:23, 13.25it/s, loss=0.38, batch=312 of 313]\n",
      "epoch: 24: : 313it [00:23, 13.35it/s, loss=0.367, batch=312 of 313]\n",
      "epoch: 25: : 313it [00:23, 13.13it/s, loss=0.354, batch=312 of 313]\n",
      "epoch: 26: : 313it [00:23, 13.14it/s, loss=0.342, batch=312 of 313]\n"
     ]
    }
   ],
   "source": [
    "data = wordsDataset(data_dir)\n",
    "epochs = 27\n",
    "dataloader = DataLoader(data, batch_size=128, shuffle=True)\n",
    "hisotry = train_loop(model, optmizer, loss_fn, device, data, batch_size=64, epochs=epochs)"
   ]
  },
  {
   "cell_type": "code",
   "execution_count": 35,
   "metadata": {
    "id": "DSkiZ392B9bn"
   },
   "outputs": [],
   "source": [
    "def plot_history(history):\n",
    "    import matplotlib.pyplot as plt\n",
    "    plt.style.use('ggplot')\n",
    "    plt.plot(history['train_loss'])\n",
    "    plt.title('Training Loss')\n",
    "    plt.xlabel('Epoch')\n",
    "    plt.ylabel('Loss')\n",
    "    plt.show()"
   ]
  },
  {
   "cell_type": "code",
   "execution_count": 36,
   "metadata": {
    "colab": {
     "base_uri": "https://localhost:8080/",
     "height": 477
    },
    "id": "4LAoTNp6CB30",
    "outputId": "b4ee761f-0ebf-470f-bcfb-bc6fcbebe83b"
   },
   "outputs": [
    {
     "data": {
      "image/png": "[encoded data removed]",
      "text/plain": [
       "<Figure size 640x480 with 1 Axes>"
      ]
     },
     "metadata": {},
     "output_type": "display_data"
    }
   ],
   "source": [
    "plot_history(hisotry)"
   ]
  },
  {
   "cell_type": "code",
   "execution_count": 48,
   "metadata": {
    "id": "un4HtHRqCVGw"
   },
   "outputs": [],
   "source": [
    "def output_to_label(output, labels):\n",
    "    softmax = F.softmax(output, dim=1)\n",
    "    return labels[torch.argmax(softmax, dim=1)]"
   ]
  },
  {
   "cell_type": "code",
   "execution_count": 63,
   "metadata": {
    "id": "jbNWkpf9wqNw"
   },
   "outputs": [],
   "source": [
    "def guess_nationality(word):\n",
    "    model.eval()\n",
    "    output = model(wordToTensor(word).to(device))\n",
    "    data = wordsDataset(data_dir)\n",
    "    labels = data.get_labels()\n",
    "    return output_to_label(output, labels)"
   ]
  },
  {
   "cell_type": "code",
   "execution_count": 64,
   "metadata": {
    "colab": {
     "base_uri": "https://localhost:8080/",
     "height": 39
    },
    "id": "TK-Mh86Twtso",
    "outputId": "6dcced45-a115-4e87-85f7-c3cf4d8f8c11"
   },
   "outputs": [
    {
     "data": {
      "application/vnd.google.colaboratory.intrinsic+json": {
       "type": "string"
      },
      "text/plain": [
       "'Korean'"
      ]
     },
     "execution_count": 64,
     "metadata": {},
     "output_type": "execute_result"
    }
   ],
   "source": [
    "guess_nationality('kang')"
   ]
  },
  {
   "cell_type": "code",
   "execution_count": 66,
   "metadata": {
    "id": "lOMud7pKyC3J"
   },
   "outputs": [],
   "source": [
    "torch.save(model.state_dict(), 'nationality_model.pth')"
   ]
  },
  {
   "cell_type": "code",
   "execution_count": null,
   "metadata": {
    "id": "bLg4khxGyLnF"
   },
   "outputs": [],
   "source": []
  }
 ],
 "metadata": {
  "colab": {
   "authorship_tag": "ABX9TyMB3FY7GQPHtHetLC6CYvHO",
   "include_colab_link": true,
   "provenance": []
  },
  "kernelspec": {
   "display_name": "Python 3 (ipykernel)",
   "language": "python",
   "name": "python3"
  },
  "language_info": {
   "codemirror_mode": {
    "name": "ipython",
    "version": 3
   },
   "file_extension": ".py",
   "mimetype": "text/x-python",
   "name": "python",
   "nbconvert_exporter": "python",
   "pygments_lexer": "ipython3",
   "version": "3.12.7"
  }
 },
 "nbformat": 4,
 "nbformat_minor": 4
}
