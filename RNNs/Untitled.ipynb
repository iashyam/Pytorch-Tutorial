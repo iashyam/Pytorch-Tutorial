{
 "cells": [
  {
   "cell_type": "code",
   "execution_count": 1,
   "id": "279a3a08-6f1d-4c1a-9304-111e80f301d8",
   "metadata": {},
   "outputs": [
    {
     "name": "stdout",
     "output_type": "stream",
     "text": [
      "using cpu device\n"
     ]
    }
   ],
   "source": [
    "import torch \n",
    "from torch.utils.data import Dataset, DataLoader\n",
    "from helper import *\n",
    "import os"
   ]
  },
  {
   "cell_type": "code",
   "execution_count": 2,
   "id": "ff210729-ca12-419b-8ecd-f98d8e624925",
   "metadata": {},
   "outputs": [],
   "source": [
    "data_dir = \"data/names\"\n",
    "names_txt = os.listdir(data_dir)"
   ]
  },
  {
   "cell_type": "code",
   "execution_count": 3,
   "id": "e09485ca-6e67-4ae0-a616-fbb8aed756b6",
   "metadata": {},
   "outputs": [],
   "source": [
    "label_data = {}"
   ]
  },
  {
   "cell_type": "code",
   "execution_count": 4,
   "id": "d0d1dfa0-2a2f-41bf-b4b0-0120b4ef8eeb",
   "metadata": {},
   "outputs": [
    {
     "name": "stdout",
     "output_type": "stream",
     "text": [
      "Czech 63\n"
     ]
    },
    {
     "ename": "ValueError",
     "evalue": "only one element tensors can be converted to Python scalars",
     "output_type": "error",
     "traceback": [
      "\u001b[0;31m---------------------------------------------------------------------------\u001b[0m",
      "\u001b[0;31mValueError\u001b[0m                                Traceback (most recent call last)",
      "Cell \u001b[0;32mIn[4], line 11\u001b[0m\n\u001b[1;32m      9\u001b[0m         line \u001b[38;5;241m=\u001b[39m line\u001b[38;5;241m.\u001b[39mstrip()\n\u001b[1;32m     10\u001b[0m         ret\u001b[38;5;241m.\u001b[39mappend(encodeWord(line))\n\u001b[0;32m---> 11\u001b[0m lable_data[label] \u001b[38;5;241m=\u001b[39m torch\u001b[38;5;241m.\u001b[39mtensor(ret)\n",
      "\u001b[0;31mValueError\u001b[0m: only one element tensors can be converted to Python scalars"
     ]
    }
   ],
   "source": [
    "for file in names_txt:\n",
    "    label = os.path.splitext(file)[0]\n",
    "    file = os.path.join(os.getcwd(), data_dir, file)\n",
    "    print(label, len(file))\n",
    "    with open(file, 'r') as f:\n",
    "        ret = torch.zeros(len(file))\n",
    "        ret = []\n",
    "        for index, line in enumerate(f):\n",
    "            line = line.strip()\n",
    "            ret.append(encodeWord(line))\n",
    "    lable_data[label] = torch.tensor(ret)"
   ]
  },
  {
   "cell_type": "code",
   "execution_count": 14,
   "id": "2d2352f3-b311-468b-b570-ee40f84d4bab",
   "metadata": {},
   "outputs": [],
   "source": [
    "class myRNN(nn.Module):\n",
    "    def __init__(self, input_features, output_features, hidden_features):\n",
    "        super().__init___()\n",
    "        self.rnn = nn.RNN(input_features, hidden_features)\n",
    "        self.linear = nn.Linear(hidden_features, output_features)"
   ]
  },
  {
   "cell_type": "code",
   "execution_count": 15,
   "id": "c6c15c5a-4468-45bf-bbd4-8b13ec36dfc6",
   "metadata": {},
   "outputs": [
    {
     "name": "stdout",
     "output_type": "stream",
     "text": [
      "Hello world\n"
     ]
    }
   ],
   "source": [
    "print(\"Hello world\")"
   ]
  },
  {
   "cell_type": "code",
   "execution_count": 16,
   "id": "044cf584-4955-4a25-93ec-7952bcaac797",
   "metadata": {},
   "outputs": [
    {
     "name": "stdout",
     "output_type": "stream",
     "text": [
      "0\n",
      "1\n",
      "2\n",
      "3\n",
      "4\n",
      "5\n",
      "6\n",
      "7\n",
      "8\n",
      "9\n"
     ]
    }
   ],
   "source": [
    "for i in range(10):\n",
    "    print(i)"
   ]
  },
  {
   "cell_type": "code",
   "execution_count": 34,
   "id": "caa725b1-fe8c-43e4-8a45-722166576996",
   "metadata": {},
   "outputs": [],
   "source": [
    "def print_pyramid(n: int) -> None:\n",
    "    if type(n) != int: raise TypeError(\"number of rows should be an integer!\")\n",
    "    for i in range(n):\n",
    "        print( (n-i)*\" \" + (2*i+1)*'#')"
   ]
  },
  {
   "cell_type": "code",
   "execution_count": 35,
   "id": "a0419dff-9c5a-438d-9679-e66ae63bddf9",
   "metadata": {},
   "outputs": [
    {
     "name": "stdout",
     "output_type": "stream",
     "text": [
      "     #\n",
      "    ###\n",
      "   #####\n",
      "  #######\n",
      " #########\n"
     ]
    }
   ],
   "source": [
    "print_pyramid(5)"
   ]
  },
  {
   "cell_type": "code",
   "execution_count": 36,
   "id": "c57c6556-0362-4e97-a91a-d2adb804010f",
   "metadata": {},
   "outputs": [
    {
     "ename": "TypeError",
     "evalue": "number of rows should be an integer!",
     "output_type": "error",
     "traceback": [
      "\u001b[0;31m---------------------------------------------------------------------------\u001b[0m",
      "\u001b[0;31mTypeError\u001b[0m                                 Traceback (most recent call last)",
      "Cell \u001b[0;32mIn[36], line 1\u001b[0m\n\u001b[0;32m----> 1\u001b[0m print_pyramid(\u001b[38;5;124m'\u001b[39m\u001b[38;5;124mstring\u001b[39m\u001b[38;5;124m'\u001b[39m)\n",
      "Cell \u001b[0;32mIn[34], line 2\u001b[0m, in \u001b[0;36mprint_pyramid\u001b[0;34m(n)\u001b[0m\n\u001b[1;32m      1\u001b[0m \u001b[38;5;28;01mdef\u001b[39;00m \u001b[38;5;21mprint_pyramid\u001b[39m(n: \u001b[38;5;28mint\u001b[39m) \u001b[38;5;241m-\u001b[39m\u001b[38;5;241m>\u001b[39m \u001b[38;5;28;01mNone\u001b[39;00m:\n\u001b[0;32m----> 2\u001b[0m     \u001b[38;5;28;01mif\u001b[39;00m \u001b[38;5;28mtype\u001b[39m(n) \u001b[38;5;241m!=\u001b[39m \u001b[38;5;28mint\u001b[39m: \u001b[38;5;28;01mraise\u001b[39;00m \u001b[38;5;167;01mTypeError\u001b[39;00m(\u001b[38;5;124m\"\u001b[39m\u001b[38;5;124mnumber of rows should be an integer!\u001b[39m\u001b[38;5;124m\"\u001b[39m)\n\u001b[1;32m      3\u001b[0m     \u001b[38;5;28;01mfor\u001b[39;00m i \u001b[38;5;129;01min\u001b[39;00m \u001b[38;5;28mrange\u001b[39m(n):\n\u001b[1;32m      4\u001b[0m         \u001b[38;5;28mprint\u001b[39m( (n\u001b[38;5;241m-\u001b[39mi)\u001b[38;5;241m*\u001b[39m\u001b[38;5;124m\"\u001b[39m\u001b[38;5;124m \u001b[39m\u001b[38;5;124m\"\u001b[39m \u001b[38;5;241m+\u001b[39m (\u001b[38;5;241m2\u001b[39m\u001b[38;5;241m*\u001b[39mi\u001b[38;5;241m+\u001b[39m\u001b[38;5;241m1\u001b[39m)\u001b[38;5;241m*\u001b[39m\u001b[38;5;124m'\u001b[39m\u001b[38;5;124m#\u001b[39m\u001b[38;5;124m'\u001b[39m)\n",
      "\u001b[0;31mTypeError\u001b[0m: number of rows should be an integer!"
     ]
    }
   ],
   "source": [
    "print_pyramid('string')"
   ]
  },
  {
   "cell_type": "code",
   "execution_count": null,
   "id": "6dc6ac22-79b3-46bd-bd00-1df32a82f90a",
   "metadata": {},
   "outputs": [],
   "source": []
  }
 ],
 "metadata": {
  "kernelspec": {
   "display_name": "Python 3 (ipykernel)",
   "language": "python",
   "name": "python3"
  },
  "language_info": {
   "codemirror_mode": {
    "name": "ipython",
    "version": 3
   },
   "file_extension": ".py",
   "mimetype": "text/x-python",
   "name": "python",
   "nbconvert_exporter": "python",
   "pygments_lexer": "ipython3",
   "version": "3.12.7"
  }
 },
 "nbformat": 4,
 "nbformat_minor": 5
}
