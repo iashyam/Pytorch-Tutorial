{
 "cells": [
  {
   "cell_type": "code",
   "execution_count": 20,
   "id": "279a3a08-6f1d-4c1a-9304-111e80f301d8",
   "metadata": {},
   "outputs": [
    {
     "name": "stdout",
     "output_type": "stream",
     "text": [
      "using cpu device\n"
     ]
    }
   ],
   "source": [
    "import torch \n",
    "from torch.utils.data import Dataset, DataLoader\n",
    "from helper import *\n",
    "import os"
   ]
  },
  {
   "cell_type": "code",
   "execution_count": 21,
   "id": "ff210729-ca12-419b-8ecd-f98d8e624925",
   "metadata": {},
   "outputs": [],
   "source": [
    "data_dir = \"data/names\"\n",
    "names_txt = os.listdir(data_dir)"
   ]
  },
  {
   "cell_type": "code",
   "execution_count": 22,
   "id": "e09485ca-6e67-4ae0-a616-fbb8aed756b6",
   "metadata": {},
   "outputs": [],
   "source": [
    "label_data = {}"
   ]
  },
  {
   "cell_type": "code",
   "execution_count": 27,
   "id": "d0d1dfa0-2a2f-41bf-b4b0-0120b4ef8eeb",
   "metadata": {},
   "outputs": [
    {
     "name": "stdout",
     "output_type": "stream",
     "text": [
      "Czech 63\n"
     ]
    },
    {
     "ename": "ValueError",
     "evalue": "only one element tensors can be converted to Python scalars",
     "output_type": "error",
     "traceback": [
      "\u001b[0;31m---------------------------------------------------------------------------\u001b[0m",
      "\u001b[0;31mValueError\u001b[0m                                Traceback (most recent call last)",
      "Cell \u001b[0;32mIn[27], line 11\u001b[0m\n\u001b[1;32m      9\u001b[0m         line \u001b[38;5;241m=\u001b[39m line\u001b[38;5;241m.\u001b[39mstrip()\n\u001b[1;32m     10\u001b[0m         ret\u001b[38;5;241m.\u001b[39mappend(encodeWord(line))\n\u001b[0;32m---> 11\u001b[0m lable_data[label] \u001b[38;5;241m=\u001b[39m torch\u001b[38;5;241m.\u001b[39mtensor(ret)\n",
      "\u001b[0;31mValueError\u001b[0m: only one element tensors can be converted to Python scalars"
     ]
    }
   ],
   "source": [
    "for file in names_txt:\n",
    "    label = os.path.splitext(file)[0]\n",
    "    file = os.path.join(os.getcwd(), data_dir, file)\n",
    "    print(label, len(file))\n",
    "    with open(file, 'r') as f:\n",
    "        ret = torch.zeros(len(file))\n",
    "        ret = []\n",
    "        for index, line in enumerate(f):\n",
    "            line = line.strip()\n",
    "            ret.append(encodeWord(line))\n",
    "    lable_data[label] = torch.tensor(ret)"
   ]
  },
  {
   "cell_type": "code",
   "execution_count": null,
   "id": "2d2352f3-b311-468b-b570-ee40f84d4bab",
   "metadata": {},
   "outputs": [],
   "source": []
  }
 ],
 "metadata": {
  "kernelspec": {
   "display_name": "Python 3 (ipykernel)",
   "language": "python",
   "name": "python3"
  },
  "language_info": {
   "codemirror_mode": {
    "name": "ipython",
    "version": 3
   },
   "file_extension": ".py",
   "mimetype": "text/x-python",
   "name": "python",
   "nbconvert_exporter": "python",
   "pygments_lexer": "ipython3",
   "version": "3.12.7"
  }
 },
 "nbformat": 4,
 "nbformat_minor": 5
}
