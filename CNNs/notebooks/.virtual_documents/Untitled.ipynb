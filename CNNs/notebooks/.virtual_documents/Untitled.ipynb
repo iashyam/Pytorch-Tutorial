import os


os.listdir()


clear


os.chdir('../../data/mnist')


os.listdir()


os.listdir( 'test.idx3-ubyte')



